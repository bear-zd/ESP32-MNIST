{
 "cells": [
  {
   "cell_type": "code",
   "execution_count": 1,
   "metadata": {
    "collapsed": true
   },
   "outputs": [
    {
     "name": "stdout",
     "output_type": "stream",
     "text": [
      "TensorFlow version: 2.11.0\n"
     ]
    }
   ],
   "source": [
    "import tensorflow as tf\n",
    "print(\"TensorFlow version:\", tf.__version__)\n",
    "\n",
    "from tensorflow.keras.layers import Dense, Flatten, Conv2D, AveragePooling2D\n",
    "from tensorflow.keras import Model\n",
    "from tqdm import tqdm\n",
    "\n",
    "MODEL_SAVE_DIR = \"savedModel\"\n",
    "FLOAT_LITE_MODEL_DIR = \"floatLiteModel.tfl\"\n",
    "QUANT_LITE_MODEL_DIR = \"quantLiteModel.tfl\"\n",
    "HEXE_LITE_MODEL_DIR = \"quantLiteModel.cc\""
   ]
  },
  {
   "cell_type": "code",
   "execution_count": 2,
   "outputs": [],
   "source": [
    "mnist = tf.keras.datasets.mnist\n",
    "\n",
    "(x_train, y_train), (x_test, y_test) = mnist.load_data()\n",
    "x_train, x_test = x_train / 255.0, x_test / 255.0\n",
    "\n",
    "# Add a channels dimension\n",
    "x_train = x_train[..., tf.newaxis].astype(\"float32\")\n",
    "x_test = x_test[..., tf.newaxis].astype(\"float32\")"
   ],
   "metadata": {
    "collapsed": false
   }
  },
  {
   "cell_type": "code",
   "execution_count": 3,
   "outputs": [],
   "source": [
    "train_ds = tf.data.Dataset.from_tensor_slices(\n",
    "    (x_train, y_train)).shuffle(10000).batch(64)\n",
    "\n",
    "test_ds = tf.data.Dataset.from_tensor_slices((x_test, y_test)).batch(32)"
   ],
   "metadata": {
    "collapsed": false
   }
  },
  {
   "cell_type": "code",
   "execution_count": 4,
   "outputs": [],
   "source": [
    "class MyModel(Model):\n",
    "  def __init__(self):\n",
    "    super(MyModel, self).__init__()\n",
    "    self.conv1 = Conv2D(3, 5, activation='softmax')\n",
    "    self.avgpool1 = AveragePooling2D()\n",
    "    self.flatten = Flatten()\n",
    "    self.d2 = Dense(10)\n",
    "\n",
    "  def call(self, x):\n",
    "    x = self.conv1(x)\n",
    "    x = self.avgpool1(x)\n",
    "    x = self.flatten(x)\n",
    "    return self.d2(x)\n",
    "\n",
    "# Create an instance of the model\n",
    "model = MyModel()\n",
    "\n",
    "loss_object = tf.keras.losses.SparseCategoricalCrossentropy(from_logits=True)\n",
    "\n",
    "optimizer = tf.keras.optimizers.Adam()\n",
    "\n",
    "train_loss = tf.keras.metrics.Mean(name='train_loss')\n",
    "train_accuracy = tf.keras.metrics.SparseCategoricalAccuracy(name='train_accuracy')\n",
    "\n",
    "test_loss = tf.keras.metrics.Mean(name='test_loss')\n",
    "test_accuracy = tf.keras.metrics.SparseCategoricalAccuracy(name='test_accuracy')"
   ],
   "metadata": {
    "collapsed": false
   }
  },
  {
   "cell_type": "code",
   "execution_count": 5,
   "outputs": [],
   "source": [
    "@tf.function\n",
    "def train_step(images, labels):\n",
    "  with tf.GradientTape() as tape:\n",
    "    # training=True is only needed if there are layers with different\n",
    "    # behavior during training versus inference (e.g. Dropout).\n",
    "    predictions = model(images, training=True)\n",
    "    loss = loss_object(labels, predictions)\n",
    "  gradients = tape.gradient(loss, model.trainable_variables)\n",
    "  optimizer.apply_gradients(zip(gradients, model.trainable_variables))\n",
    "\n",
    "  train_loss(loss)\n",
    "  train_accuracy(labels, predictions)"
   ],
   "metadata": {
    "collapsed": false
   }
  },
  {
   "cell_type": "code",
   "execution_count": 6,
   "outputs": [],
   "source": [
    "@tf.function\n",
    "def test_step(images, labels):\n",
    "  # training=False is only needed if there are layers with different\n",
    "  # behavior during training versus inference (e.g. Dropout).\n",
    "  predictions = model(images, training=False)\n",
    "  t_loss = loss_object(labels, predictions)\n",
    "\n",
    "  test_loss(t_loss)\n",
    "  test_accuracy(labels, predictions)"
   ],
   "metadata": {
    "collapsed": false
   }
  },
  {
   "cell_type": "code",
   "execution_count": 7,
   "outputs": [
    {
     "name": "stderr",
     "output_type": "stream",
     "text": [
      "  2%|▏         | 1/50 [00:08<06:45,  8.28s/it]"
     ]
    },
    {
     "name": "stdout",
     "output_type": "stream",
     "text": [
      "Epoch 1, Loss: 0.7949312329292297, Accuracy: 79.51333618164062, Test Loss: 0.35819223523139954, Test Accuracy: 89.72000122070312\n"
     ]
    },
    {
     "name": "stderr",
     "output_type": "stream",
     "text": [
      "  4%|▍         | 2/50 [00:13<05:21,  6.70s/it]"
     ]
    },
    {
     "name": "stdout",
     "output_type": "stream",
     "text": [
      "Epoch 2, Loss: 0.30732813477516174, Accuracy: 91.28666687011719, Test Loss: 0.2464708387851715, Test Accuracy: 92.83000183105469\n"
     ]
    },
    {
     "name": "stderr",
     "output_type": "stream",
     "text": [
      "  6%|▌         | 3/50 [00:19<04:47,  6.12s/it]"
     ]
    },
    {
     "name": "stdout",
     "output_type": "stream",
     "text": [
      "Epoch 3, Loss: 0.23129133880138397, Accuracy: 93.26499938964844, Test Loss: 0.19276636838912964, Test Accuracy: 94.45000457763672\n"
     ]
    },
    {
     "name": "stderr",
     "output_type": "stream",
     "text": [
      "  8%|▊         | 4/50 [00:25<04:45,  6.21s/it]"
     ]
    },
    {
     "name": "stdout",
     "output_type": "stream",
     "text": [
      "Epoch 4, Loss: 0.18979474902153015, Accuracy: 94.5433349609375, Test Loss: 0.16677109897136688, Test Accuracy: 95.5\n"
     ]
    },
    {
     "name": "stderr",
     "output_type": "stream",
     "text": [
      " 10%|█         | 5/50 [00:32<04:53,  6.52s/it]"
     ]
    },
    {
     "name": "stdout",
     "output_type": "stream",
     "text": [
      "Epoch 5, Loss: 0.162999227643013, Accuracy: 95.30332946777344, Test Loss: 0.14612601697444916, Test Accuracy: 95.85000610351562\n"
     ]
    },
    {
     "name": "stderr",
     "output_type": "stream",
     "text": [
      " 12%|█▏        | 6/50 [00:38<04:42,  6.42s/it]"
     ]
    },
    {
     "name": "stdout",
     "output_type": "stream",
     "text": [
      "Epoch 6, Loss: 0.14554491639137268, Accuracy: 95.81500244140625, Test Loss: 0.12749293446540833, Test Accuracy: 96.29000091552734\n"
     ]
    },
    {
     "name": "stderr",
     "output_type": "stream",
     "text": [
      " 14%|█▍        | 7/50 [00:45<04:33,  6.37s/it]"
     ]
    },
    {
     "name": "stdout",
     "output_type": "stream",
     "text": [
      "Epoch 7, Loss: 0.13277706503868103, Accuracy: 96.17166137695312, Test Loss: 0.11994520574808121, Test Accuracy: 96.44000244140625\n"
     ]
    },
    {
     "name": "stderr",
     "output_type": "stream",
     "text": [
      " 16%|█▌        | 8/50 [00:51<04:27,  6.36s/it]"
     ]
    },
    {
     "name": "stdout",
     "output_type": "stream",
     "text": [
      "Epoch 8, Loss: 0.12409429997205734, Accuracy: 96.38666534423828, Test Loss: 0.1114291325211525, Test Accuracy: 96.6500015258789\n"
     ]
    },
    {
     "name": "stderr",
     "output_type": "stream",
     "text": [
      " 18%|█▊        | 9/50 [00:58<04:26,  6.51s/it]"
     ]
    },
    {
     "name": "stdout",
     "output_type": "stream",
     "text": [
      "Epoch 9, Loss: 0.11683988571166992, Accuracy: 96.55667114257812, Test Loss: 0.10972091555595398, Test Accuracy: 96.72000122070312\n"
     ]
    },
    {
     "name": "stderr",
     "output_type": "stream",
     "text": [
      " 20%|██        | 10/50 [01:05<04:23,  6.59s/it]"
     ]
    },
    {
     "name": "stdout",
     "output_type": "stream",
     "text": [
      "Epoch 10, Loss: 0.11123150587081909, Accuracy: 96.71166229248047, Test Loss: 0.10201883316040039, Test Accuracy: 96.8499984741211\n"
     ]
    },
    {
     "name": "stderr",
     "output_type": "stream",
     "text": [
      " 22%|██▏       | 11/50 [01:11<04:16,  6.58s/it]"
     ]
    },
    {
     "name": "stdout",
     "output_type": "stream",
     "text": [
      "Epoch 11, Loss: 0.10692008584737778, Accuracy: 96.83833312988281, Test Loss: 0.0975768193602562, Test Accuracy: 96.98999786376953\n"
     ]
    },
    {
     "name": "stderr",
     "output_type": "stream",
     "text": [
      " 24%|██▍       | 12/50 [01:18<04:10,  6.60s/it]"
     ]
    },
    {
     "name": "stdout",
     "output_type": "stream",
     "text": [
      "Epoch 12, Loss: 0.10362494736909866, Accuracy: 96.93833923339844, Test Loss: 0.09683354198932648, Test Accuracy: 96.97999572753906\n"
     ]
    },
    {
     "name": "stderr",
     "output_type": "stream",
     "text": [
      " 26%|██▌       | 13/50 [01:25<04:06,  6.67s/it]"
     ]
    },
    {
     "name": "stdout",
     "output_type": "stream",
     "text": [
      "Epoch 13, Loss: 0.10036982595920563, Accuracy: 97.01166534423828, Test Loss: 0.0895155668258667, Test Accuracy: 97.25\n"
     ]
    },
    {
     "name": "stderr",
     "output_type": "stream",
     "text": [
      " 28%|██▊       | 14/50 [01:31<04:00,  6.69s/it]"
     ]
    },
    {
     "name": "stdout",
     "output_type": "stream",
     "text": [
      "Epoch 14, Loss: 0.09774655848741531, Accuracy: 97.0633316040039, Test Loss: 0.09386148303747177, Test Accuracy: 97.06999969482422\n"
     ]
    },
    {
     "name": "stderr",
     "output_type": "stream",
     "text": [
      " 30%|███       | 15/50 [01:38<03:55,  6.74s/it]"
     ]
    },
    {
     "name": "stdout",
     "output_type": "stream",
     "text": [
      "Epoch 15, Loss: 0.09586046636104584, Accuracy: 97.1016616821289, Test Loss: 0.08927406370639801, Test Accuracy: 97.22000122070312\n"
     ]
    },
    {
     "name": "stderr",
     "output_type": "stream",
     "text": [
      " 32%|███▏      | 16/50 [01:45<03:50,  6.77s/it]"
     ]
    },
    {
     "name": "stdout",
     "output_type": "stream",
     "text": [
      "Epoch 16, Loss: 0.0936715379357338, Accuracy: 97.20999908447266, Test Loss: 0.08573219925165176, Test Accuracy: 97.19999694824219\n"
     ]
    },
    {
     "name": "stderr",
     "output_type": "stream",
     "text": [
      " 34%|███▍      | 17/50 [01:55<04:14,  7.72s/it]"
     ]
    },
    {
     "name": "stdout",
     "output_type": "stream",
     "text": [
      "Epoch 17, Loss: 0.09173912554979324, Accuracy: 97.30332946777344, Test Loss: 0.08511704951524734, Test Accuracy: 97.29999542236328\n"
     ]
    },
    {
     "name": "stderr",
     "output_type": "stream",
     "text": [
      " 36%|███▌      | 18/50 [02:04<04:18,  8.08s/it]"
     ]
    },
    {
     "name": "stdout",
     "output_type": "stream",
     "text": [
      "Epoch 18, Loss: 0.0905492752790451, Accuracy: 97.336669921875, Test Loss: 0.08336097002029419, Test Accuracy: 97.27999877929688\n"
     ]
    },
    {
     "name": "stderr",
     "output_type": "stream",
     "text": [
      " 38%|███▊      | 19/50 [02:13<04:22,  8.46s/it]"
     ]
    },
    {
     "name": "stdout",
     "output_type": "stream",
     "text": [
      "Epoch 19, Loss: 0.08940449357032776, Accuracy: 97.30833435058594, Test Loss: 0.08397431671619415, Test Accuracy: 97.19999694824219\n"
     ]
    },
    {
     "name": "stderr",
     "output_type": "stream",
     "text": [
      " 40%|████      | 20/50 [02:22<04:16,  8.56s/it]"
     ]
    },
    {
     "name": "stdout",
     "output_type": "stream",
     "text": [
      "Epoch 20, Loss: 0.08795166015625, Accuracy: 97.35833740234375, Test Loss: 0.08408621698617935, Test Accuracy: 97.27999877929688\n"
     ]
    },
    {
     "name": "stderr",
     "output_type": "stream",
     "text": [
      " 42%|████▏     | 21/50 [02:31<04:08,  8.58s/it]"
     ]
    },
    {
     "name": "stdout",
     "output_type": "stream",
     "text": [
      "Epoch 21, Loss: 0.08653246611356735, Accuracy: 97.39500427246094, Test Loss: 0.08293911069631577, Test Accuracy: 97.31999969482422\n"
     ]
    },
    {
     "name": "stderr",
     "output_type": "stream",
     "text": [
      " 44%|████▍     | 22/50 [02:39<03:58,  8.51s/it]"
     ]
    },
    {
     "name": "stdout",
     "output_type": "stream",
     "text": [
      "Epoch 22, Loss: 0.08540838956832886, Accuracy: 97.45333099365234, Test Loss: 0.0845523402094841, Test Accuracy: 97.29000091552734\n"
     ]
    },
    {
     "name": "stderr",
     "output_type": "stream",
     "text": [
      " 46%|████▌     | 23/50 [02:50<04:06,  9.13s/it]"
     ]
    },
    {
     "name": "stdout",
     "output_type": "stream",
     "text": [
      "Epoch 23, Loss: 0.08484169095754623, Accuracy: 97.47166442871094, Test Loss: 0.07992711663246155, Test Accuracy: 97.38999938964844\n"
     ]
    },
    {
     "name": "stderr",
     "output_type": "stream",
     "text": [
      " 48%|████▊     | 24/50 [03:05<04:48, 11.09s/it]"
     ]
    },
    {
     "name": "stdout",
     "output_type": "stream",
     "text": [
      "Epoch 24, Loss: 0.08364754915237427, Accuracy: 97.4816665649414, Test Loss: 0.0783764198422432, Test Accuracy: 97.37999725341797\n"
     ]
    },
    {
     "name": "stderr",
     "output_type": "stream",
     "text": [
      " 50%|█████     | 25/50 [03:15<04:27, 10.68s/it]"
     ]
    },
    {
     "name": "stdout",
     "output_type": "stream",
     "text": [
      "Epoch 25, Loss: 0.08299101889133453, Accuracy: 97.54499816894531, Test Loss: 0.07744510471820831, Test Accuracy: 97.5199966430664\n"
     ]
    },
    {
     "name": "stderr",
     "output_type": "stream",
     "text": [
      " 52%|█████▏    | 26/50 [03:25<04:07, 10.33s/it]"
     ]
    },
    {
     "name": "stdout",
     "output_type": "stream",
     "text": [
      "Epoch 26, Loss: 0.08249925076961517, Accuracy: 97.52166748046875, Test Loss: 0.08090409636497498, Test Accuracy: 97.31999969482422\n"
     ]
    },
    {
     "name": "stderr",
     "output_type": "stream",
     "text": [
      " 54%|█████▍    | 27/50 [03:35<03:59, 10.43s/it]"
     ]
    },
    {
     "name": "stdout",
     "output_type": "stream",
     "text": [
      "Epoch 27, Loss: 0.08134090900421143, Accuracy: 97.51333618164062, Test Loss: 0.07777176797389984, Test Accuracy: 97.54999542236328\n"
     ]
    },
    {
     "name": "stderr",
     "output_type": "stream",
     "text": [
      " 56%|█████▌    | 28/50 [03:45<03:42, 10.13s/it]"
     ]
    },
    {
     "name": "stdout",
     "output_type": "stream",
     "text": [
      "Epoch 28, Loss: 0.08074983954429626, Accuracy: 97.57333374023438, Test Loss: 0.07777424901723862, Test Accuracy: 97.53999328613281\n"
     ]
    },
    {
     "name": "stderr",
     "output_type": "stream",
     "text": [
      " 58%|█████▊    | 29/50 [03:54<03:27,  9.89s/it]"
     ]
    },
    {
     "name": "stdout",
     "output_type": "stream",
     "text": [
      "Epoch 29, Loss: 0.08008743822574615, Accuracy: 97.53999328613281, Test Loss: 0.07672896236181259, Test Accuracy: 97.56999969482422\n"
     ]
    },
    {
     "name": "stderr",
     "output_type": "stream",
     "text": [
      " 60%|██████    | 30/50 [04:03<03:15,  9.76s/it]"
     ]
    },
    {
     "name": "stdout",
     "output_type": "stream",
     "text": [
      "Epoch 30, Loss: 0.07954689115285873, Accuracy: 97.59333038330078, Test Loss: 0.07887855917215347, Test Accuracy: 97.47000122070312\n"
     ]
    },
    {
     "name": "stderr",
     "output_type": "stream",
     "text": [
      " 62%|██████▏   | 31/50 [04:14<03:07,  9.86s/it]"
     ]
    },
    {
     "name": "stdout",
     "output_type": "stream",
     "text": [
      "Epoch 31, Loss: 0.07894805073738098, Accuracy: 97.6066665649414, Test Loss: 0.0771123543381691, Test Accuracy: 97.52999877929688\n"
     ]
    },
    {
     "name": "stderr",
     "output_type": "stream",
     "text": [
      " 64%|██████▍   | 32/50 [04:24<02:58,  9.90s/it]"
     ]
    },
    {
     "name": "stdout",
     "output_type": "stream",
     "text": [
      "Epoch 32, Loss: 0.078377366065979, Accuracy: 97.61333465576172, Test Loss: 0.07746636122465134, Test Accuracy: 97.39999389648438\n"
     ]
    },
    {
     "name": "stderr",
     "output_type": "stream",
     "text": [
      " 66%|██████▌   | 33/50 [04:34<02:50, 10.04s/it]"
     ]
    },
    {
     "name": "stdout",
     "output_type": "stream",
     "text": [
      "Epoch 33, Loss: 0.0775752067565918, Accuracy: 97.6883316040039, Test Loss: 0.07787393778562546, Test Accuracy: 97.43999481201172\n"
     ]
    },
    {
     "name": "stderr",
     "output_type": "stream",
     "text": [
      " 68%|██████▊   | 34/50 [04:45<02:43, 10.23s/it]"
     ]
    },
    {
     "name": "stdout",
     "output_type": "stream",
     "text": [
      "Epoch 34, Loss: 0.07750725001096725, Accuracy: 97.66667175292969, Test Loss: 0.07712863385677338, Test Accuracy: 97.55999755859375\n"
     ]
    },
    {
     "name": "stderr",
     "output_type": "stream",
     "text": [
      " 70%|███████   | 35/50 [04:56<02:39, 10.66s/it]"
     ]
    },
    {
     "name": "stdout",
     "output_type": "stream",
     "text": [
      "Epoch 35, Loss: 0.07738135010004044, Accuracy: 97.64500427246094, Test Loss: 0.0763956606388092, Test Accuracy: 97.5999984741211\n"
     ]
    },
    {
     "name": "stderr",
     "output_type": "stream",
     "text": [
      " 72%|███████▏  | 36/50 [05:08<02:34, 11.06s/it]"
     ]
    },
    {
     "name": "stdout",
     "output_type": "stream",
     "text": [
      "Epoch 36, Loss: 0.07619816064834595, Accuracy: 97.67166137695312, Test Loss: 0.0751051977276802, Test Accuracy: 97.57999420166016\n"
     ]
    },
    {
     "name": "stderr",
     "output_type": "stream",
     "text": [
      " 74%|███████▍  | 37/50 [05:18<02:18, 10.66s/it]"
     ]
    },
    {
     "name": "stdout",
     "output_type": "stream",
     "text": [
      "Epoch 37, Loss: 0.07571793347597122, Accuracy: 97.70500183105469, Test Loss: 0.07780347019433975, Test Accuracy: 97.56999969482422\n"
     ]
    },
    {
     "name": "stderr",
     "output_type": "stream",
     "text": [
      " 76%|███████▌  | 38/50 [05:27<02:03, 10.28s/it]"
     ]
    },
    {
     "name": "stdout",
     "output_type": "stream",
     "text": [
      "Epoch 38, Loss: 0.07544059306383133, Accuracy: 97.65833282470703, Test Loss: 0.0780797228217125, Test Accuracy: 97.47000122070312\n"
     ]
    },
    {
     "name": "stderr",
     "output_type": "stream",
     "text": [
      " 78%|███████▊  | 39/50 [05:37<01:51, 10.13s/it]"
     ]
    },
    {
     "name": "stdout",
     "output_type": "stream",
     "text": [
      "Epoch 39, Loss: 0.07495728880167007, Accuracy: 97.72333526611328, Test Loss: 0.07553642988204956, Test Accuracy: 97.66999816894531\n"
     ]
    },
    {
     "name": "stderr",
     "output_type": "stream",
     "text": [
      " 80%|████████  | 40/50 [05:51<01:53, 11.33s/it]"
     ]
    },
    {
     "name": "stdout",
     "output_type": "stream",
     "text": [
      "Epoch 40, Loss: 0.07463904470205307, Accuracy: 97.76667022705078, Test Loss: 0.0785941332578659, Test Accuracy: 97.5\n"
     ]
    },
    {
     "name": "stderr",
     "output_type": "stream",
     "text": [
      " 82%|████████▏ | 41/50 [06:02<01:40, 11.15s/it]"
     ]
    },
    {
     "name": "stdout",
     "output_type": "stream",
     "text": [
      "Epoch 41, Loss: 0.07440387457609177, Accuracy: 97.74666595458984, Test Loss: 0.0751027762889862, Test Accuracy: 97.64999389648438\n"
     ]
    },
    {
     "name": "stderr",
     "output_type": "stream",
     "text": [
      " 84%|████████▍ | 42/50 [06:12<01:27, 10.90s/it]"
     ]
    },
    {
     "name": "stdout",
     "output_type": "stream",
     "text": [
      "Epoch 42, Loss: 0.07401775568723679, Accuracy: 97.73833465576172, Test Loss: 0.07448670268058777, Test Accuracy: 97.6199951171875\n"
     ]
    },
    {
     "name": "stderr",
     "output_type": "stream",
     "text": [
      " 86%|████████▌ | 43/50 [06:23<01:14, 10.70s/it]"
     ]
    },
    {
     "name": "stdout",
     "output_type": "stream",
     "text": [
      "Epoch 43, Loss: 0.07368234544992447, Accuracy: 97.73500061035156, Test Loss: 0.07480990886688232, Test Accuracy: 97.65999603271484\n"
     ]
    },
    {
     "name": "stderr",
     "output_type": "stream",
     "text": [
      " 88%|████████▊ | 44/50 [06:33<01:03, 10.57s/it]"
     ]
    },
    {
     "name": "stdout",
     "output_type": "stream",
     "text": [
      "Epoch 44, Loss: 0.07308045029640198, Accuracy: 97.788330078125, Test Loss: 0.07672223448753357, Test Accuracy: 97.56999969482422\n"
     ]
    },
    {
     "name": "stderr",
     "output_type": "stream",
     "text": [
      " 90%|█████████ | 45/50 [06:42<00:50, 10.03s/it]"
     ]
    },
    {
     "name": "stdout",
     "output_type": "stream",
     "text": [
      "Epoch 45, Loss: 0.07262630760669708, Accuracy: 97.7933349609375, Test Loss: 0.08065316826105118, Test Accuracy: 97.40999603271484\n"
     ]
    },
    {
     "name": "stderr",
     "output_type": "stream",
     "text": [
      " 92%|█████████▏| 46/50 [06:52<00:39, 10.00s/it]"
     ]
    },
    {
     "name": "stdout",
     "output_type": "stream",
     "text": [
      "Epoch 46, Loss: 0.07299432903528214, Accuracy: 97.79499816894531, Test Loss: 0.07616845518350601, Test Accuracy: 97.63999938964844\n"
     ]
    },
    {
     "name": "stderr",
     "output_type": "stream",
     "text": [
      " 94%|█████████▍| 47/50 [07:02<00:30, 10.13s/it]"
     ]
    },
    {
     "name": "stdout",
     "output_type": "stream",
     "text": [
      "Epoch 47, Loss: 0.07230475544929504, Accuracy: 97.788330078125, Test Loss: 0.07647883892059326, Test Accuracy: 97.55999755859375\n"
     ]
    },
    {
     "name": "stderr",
     "output_type": "stream",
     "text": [
      " 96%|█████████▌| 48/50 [07:12<00:20, 10.24s/it]"
     ]
    },
    {
     "name": "stdout",
     "output_type": "stream",
     "text": [
      "Epoch 48, Loss: 0.07221171259880066, Accuracy: 97.77667236328125, Test Loss: 0.07736364752054214, Test Accuracy: 97.5999984741211\n"
     ]
    },
    {
     "name": "stderr",
     "output_type": "stream",
     "text": [
      " 98%|█████████▊| 49/50 [07:22<00:10, 10.03s/it]"
     ]
    },
    {
     "name": "stdout",
     "output_type": "stream",
     "text": [
      "Epoch 49, Loss: 0.07157429307699203, Accuracy: 97.79833221435547, Test Loss: 0.07936425507068634, Test Accuracy: 97.47000122070312\n"
     ]
    },
    {
     "name": "stderr",
     "output_type": "stream",
     "text": [
      "100%|██████████| 50/50 [07:32<00:00,  9.05s/it]"
     ]
    },
    {
     "name": "stdout",
     "output_type": "stream",
     "text": [
      "Epoch 50, Loss: 0.07137537747621536, Accuracy: 97.80999755859375, Test Loss: 0.07711568474769592, Test Accuracy: 97.52999877929688\n"
     ]
    },
    {
     "name": "stderr",
     "output_type": "stream",
     "text": [
      "\n"
     ]
    }
   ],
   "source": [
    "EPOCHS = 50\n",
    "\n",
    "for epoch in tqdm(range(EPOCHS)):\n",
    "  # Reset the metrics at the start of the next epoch\n",
    "  train_loss.reset_states()\n",
    "  train_accuracy.reset_states()\n",
    "  test_loss.reset_states()\n",
    "  test_accuracy.reset_states()\n",
    "\n",
    "  for images, labels in train_ds:\n",
    "    train_step(images, labels)\n",
    "\n",
    "  for test_images, test_labels in test_ds:\n",
    "    test_step(test_images, test_labels)\n",
    "\n",
    "  print(\n",
    "    f'Epoch {epoch + 1}, '\n",
    "    f'Loss: {train_loss.result()}, '\n",
    "    f'Accuracy: {train_accuracy.result() * 100}, '\n",
    "    f'Test Loss: {test_loss.result()}, '\n",
    "    f'Test Accuracy: {test_accuracy.result() * 100}'\n",
    "  )"
   ],
   "metadata": {
    "collapsed": false
   }
  },
  {
   "cell_type": "code",
   "execution_count": 8,
   "outputs": [
    {
     "name": "stderr",
     "output_type": "stream",
     "text": [
      "WARNING:absl:Found untraced functions such as _jit_compiled_convolution_op while saving (showing 1 of 1). These functions will not be directly callable after loading.\n"
     ]
    },
    {
     "name": "stdout",
     "output_type": "stream",
     "text": [
      "INFO:tensorflow:Assets written to: savedModel\\assets\n"
     ]
    },
    {
     "name": "stderr",
     "output_type": "stream",
     "text": [
      "INFO:tensorflow:Assets written to: savedModel\\assets\n"
     ]
    }
   ],
   "source": [
    "\n",
    "\n",
    "\n",
    "model.save(MODEL_SAVE_DIR)\n"
   ],
   "metadata": {
    "collapsed": false
   }
  },
  {
   "cell_type": "code",
   "execution_count": 9,
   "outputs": [
    {
     "data": {
      "text/plain": "7104"
     },
     "execution_count": 9,
     "metadata": {},
     "output_type": "execute_result"
    }
   ],
   "source": [
    "converter = tf.lite.TFLiteConverter.from_saved_model(MODEL_SAVE_DIR)\n",
    "model_no_quant_tflite = converter.convert()\n",
    "\n",
    "open(FLOAT_LITE_MODEL_DIR,'wb').write(model_no_quant_tflite)\n",
    "\n",
    "# Set the optimization flag.\n",
    "converter.optimizations = [tf.lite.Optimize.DEFAULT]\n",
    "# Enforce integer only quantization\n",
    "def representative_dataset():\n",
    "  for i in x_test:\n",
    "    t = tf.expand_dims(i,0)\n",
    "    # print(t.shape)\n",
    "    yield([t])\n",
    "converter.target_spec.supported_ops = [tf.lite.OpsSet.TFLITE_BUILTINS_INT8]\n",
    "converter.inference_input_type = tf.int8\n",
    "converter.inference_output_type = tf.int8\n",
    "# Provide a representative dataset to ensure we quantize correctly.\n",
    "converter.representative_dataset = representative_dataset\n",
    "model_tflite = converter.convert()\n",
    "\n",
    "# Save the model to disk\n",
    "open(QUANT_LITE_MODEL_DIR, \"wb\").write(model_tflite)"
   ],
   "metadata": {
    "collapsed": false
   }
  },
  {
   "cell_type": "code",
   "execution_count": 11,
   "outputs": [
    {
     "name": "stdout",
     "output_type": "stream",
     "text": [
      "original size:78816\n",
      "no quant size:19880\n",
      "quant size:7104\n"
     ]
    }
   ],
   "source": [
    "import os\n",
    "\n",
    "\n",
    "def get_dir_size(dir):\n",
    "  size = 0\n",
    "  for f in os.scandir(dir):\n",
    "    if f.is_file():\n",
    "      size += f.stat().st_size\n",
    "    elif f.is_dir():\n",
    "      size += get_dir_size(f.path)\n",
    "  return size\n",
    "\n",
    "# Calculate size\n",
    "size_tf = get_dir_size(MODEL_SAVE_DIR)\n",
    "size_no_quant_tflite = os.path.getsize(FLOAT_LITE_MODEL_DIR)\n",
    "size_tflite = os.path.getsize(QUANT_LITE_MODEL_DIR)\n",
    "\n",
    "print(\"original size:{}\\nno quant size:{}\\nquant size:{}\".format(size_tf,size_no_quant_tflite,size_tflite))\n"
   ],
   "metadata": {
    "collapsed": false
   }
  },
  {
   "cell_type": "code",
   "execution_count": 12,
   "outputs": [],
   "source": [
    "import numpy as np\n",
    "def predict_tflite(tflite_model, img):\n",
    "  img_array = tf.expand_dims(img, 0)\n",
    "\n",
    "  # Initialize the TFLite interpreter\n",
    "  interpreter = tf.lite.Interpreter(model_content=tflite_model)\n",
    "  interpreter.allocate_tensors()\n",
    "\n",
    "  input_details = interpreter.get_input_details()[0]\n",
    "  output_details = interpreter.get_output_details()[0]\n",
    "\n",
    "  # If required, quantize the input layer (from float to integer)\n",
    "  input_scale, input_zero_point = input_details[\"quantization\"]\n",
    "  if (input_scale, input_zero_point) != (0.0, 0):\n",
    "    img_array = np.multiply(img_array, 1.0 / input_scale) + input_zero_point\n",
    "    img_array = img_array.astype(input_details[\"dtype\"])\n",
    "\n",
    "  # Invoke the interpreter\n",
    "  interpreter.set_tensor(input_details[\"index\"], img_array)\n",
    "  interpreter.invoke()\n",
    "  pred = interpreter.get_tensor(output_details[\"index\"])[0]\n",
    "\n",
    "  # If required, dequantized the output layer (from integer to float)\n",
    "  output_scale, output_zero_point = output_details[\"quantization\"]\n",
    "  if (output_scale, output_zero_point) != (0.0, 0):\n",
    "    pred = pred.astype(np.float32)\n",
    "    pred = np.multiply((pred - output_zero_point), output_scale)\n",
    "\n",
    "  predicted_label_index = np.argmax(pred)\n",
    "  predicted_score = pred[predicted_label_index]\n",
    "  return (predicted_label_index, predicted_score)"
   ],
   "metadata": {
    "collapsed": false
   }
  },
  {
   "cell_type": "code",
   "execution_count": 13,
   "outputs": [],
   "source": [
    "def run_tflite_test(model_file):\n",
    "  correct_count = 0\n",
    "  wrong_count = 0\n",
    "  discarded_count = 0\n",
    "  for i,j in enumerate(x_test):\n",
    "      index, score = predict_tflite(model_file, x_test[i])\n",
    "      if score < 0.75:\n",
    "        discarded_count += 1\n",
    "        continue\n",
    "      if index == y_test[i]:\n",
    "        correct_count += 1\n",
    "      else:\n",
    "        wrong_count += 1\n",
    "        print(\"[%s] expected, [%s] found with score [%f]\" % (y_test[i], index, score))\n",
    "\n",
    "  correct_percentage = (correct_count / (correct_count + wrong_count)) * 100\n",
    "\n",
    "\n",
    "  print(\"%.1f%% correct (N=%d, %d unknown)\" % (correct_percentage, (correct_count + wrong_count), discarded_count))"
   ],
   "metadata": {
    "collapsed": false
   }
  },
  {
   "cell_type": "code",
   "execution_count": 14,
   "outputs": [
    {
     "name": "stdout",
     "output_type": "stream",
     "text": [
      "[4] expected, [0] found with score [4.540332]\n",
      "[4] expected, [8] found with score [1.730161]\n",
      "[6] expected, [0] found with score [8.353472]\n",
      "[2] expected, [3] found with score [3.020800]\n",
      "[9] expected, [7] found with score [1.061835]\n",
      "[2] expected, [7] found with score [4.422511]\n",
      "[5] expected, [3] found with score [3.023057]\n",
      "[3] expected, [7] found with score [5.523836]\n",
      "[5] expected, [3] found with score [6.315693]\n",
      "[4] expected, [5] found with score [1.818221]\n",
      "[6] expected, [0] found with score [4.633207]\n",
      "[8] expected, [2] found with score [2.554385]\n",
      "[7] expected, [9] found with score [5.246146]\n",
      "[2] expected, [8] found with score [4.278044]\n",
      "[1] expected, [8] found with score [3.462673]\n",
      "[2] expected, [1] found with score [3.379570]\n",
      "[5] expected, [3] found with score [5.391839]\n",
      "[7] expected, [3] found with score [4.568510]\n",
      "[0] expected, [5] found with score [1.062623]\n",
      "[5] expected, [8] found with score [5.966059]\n",
      "[7] expected, [5] found with score [2.212738]\n",
      "[2] expected, [8] found with score [7.552712]\n",
      "[4] expected, [9] found with score [3.963515]\n",
      "[4] expected, [8] found with score [0.789193]\n",
      "[8] expected, [7] found with score [1.378012]\n",
      "[7] expected, [9] found with score [2.869650]\n",
      "[2] expected, [0] found with score [3.095163]\n",
      "[8] expected, [9] found with score [2.060643]\n",
      "[6] expected, [5] found with score [3.327444]\n",
      "[6] expected, [8] found with score [2.132503]\n",
      "[3] expected, [9] found with score [1.750887]\n",
      "[8] expected, [4] found with score [2.854128]\n",
      "[4] expected, [6] found with score [6.124970]\n",
      "[3] expected, [8] found with score [4.561502]\n",
      "[8] expected, [3] found with score [2.405578]\n",
      "[6] expected, [8] found with score [5.173863]\n",
      "[7] expected, [9] found with score [4.645143]\n",
      "[7] expected, [2] found with score [2.593533]\n",
      "[7] expected, [1] found with score [3.495848]\n",
      "[8] expected, [0] found with score [0.813483]\n",
      "[7] expected, [2] found with score [2.996212]\n",
      "[2] expected, [6] found with score [4.906473]\n",
      "[5] expected, [3] found with score [5.032929]\n",
      "[8] expected, [4] found with score [2.274268]\n",
      "[8] expected, [2] found with score [3.095217]\n",
      "[8] expected, [7] found with score [5.747395]\n",
      "[4] expected, [2] found with score [2.895527]\n",
      "[7] expected, [9] found with score [4.492751]\n",
      "[0] expected, [6] found with score [10.046342]\n",
      "[7] expected, [3] found with score [3.612794]\n",
      "[6] expected, [5] found with score [2.810730]\n",
      "[3] expected, [7] found with score [2.702438]\n",
      "[1] expected, [8] found with score [2.460609]\n",
      "[8] expected, [0] found with score [4.171385]\n",
      "[7] expected, [3] found with score [5.229525]\n",
      "[7] expected, [3] found with score [4.664377]\n",
      "[2] expected, [8] found with score [4.416090]\n",
      "[8] expected, [3] found with score [2.612714]\n",
      "[8] expected, [3] found with score [2.118713]\n",
      "[7] expected, [9] found with score [3.834419]\n",
      "[1] expected, [4] found with score [2.801162]\n",
      "[9] expected, [4] found with score [1.961212]\n",
      "[7] expected, [2] found with score [1.888276]\n",
      "[4] expected, [6] found with score [1.086574]\n",
      "[5] expected, [8] found with score [4.035625]\n",
      "[8] expected, [2] found with score [3.447343]\n",
      "[5] expected, [3] found with score [5.068192]\n",
      "[4] expected, [8] found with score [2.249207]\n",
      "[6] expected, [0] found with score [6.232715]\n",
      "[9] expected, [8] found with score [2.052196]\n",
      "[4] expected, [9] found with score [4.813157]\n",
      "[1] expected, [2] found with score [4.046422]\n",
      "[8] expected, [0] found with score [2.874666]\n",
      "[3] expected, [5] found with score [2.030633]\n",
      "[9] expected, [0] found with score [7.221632]\n",
      "[0] expected, [2] found with score [8.836274]\n",
      "[1] expected, [7] found with score [3.068722]\n",
      "[9] expected, [0] found with score [1.653447]\n",
      "[9] expected, [1] found with score [1.462047]\n",
      "[9] expected, [1] found with score [1.312767]\n",
      "[8] expected, [3] found with score [2.958065]\n",
      "[2] expected, [3] found with score [7.768904]\n",
      "[8] expected, [2] found with score [2.822216]\n",
      "[7] expected, [8] found with score [1.691815]\n",
      "[6] expected, [1] found with score [6.380645]\n",
      "[9] expected, [7] found with score [2.901974]\n",
      "[9] expected, [4] found with score [2.595351]\n",
      "[2] expected, [3] found with score [5.612646]\n",
      "[5] expected, [3] found with score [4.731078]\n",
      "[7] expected, [9] found with score [6.319443]\n",
      "[8] expected, [0] found with score [6.119630]\n",
      "[3] expected, [2] found with score [3.502969]\n",
      "[3] expected, [7] found with score [3.290781]\n",
      "[5] expected, [3] found with score [4.569392]\n",
      "[6] expected, [5] found with score [2.496038]\n",
      "[8] expected, [9] found with score [2.002741]\n",
      "[6] expected, [0] found with score [1.976040]\n",
      "[1] expected, [3] found with score [3.653654]\n",
      "[5] expected, [3] found with score [3.774999]\n",
      "[4] expected, [9] found with score [1.055022]\n",
      "[8] expected, [9] found with score [5.095879]\n",
      "[2] expected, [8] found with score [4.161994]\n",
      "[9] expected, [7] found with score [1.651679]\n",
      "[0] expected, [9] found with score [2.423194]\n",
      "[6] expected, [0] found with score [7.176985]\n",
      "[9] expected, [1] found with score [1.115571]\n",
      "[6] expected, [4] found with score [3.945652]\n",
      "[9] expected, [7] found with score [4.019232]\n",
      "[3] expected, [8] found with score [3.629209]\n",
      "[8] expected, [5] found with score [2.370412]\n",
      "[9] expected, [3] found with score [2.553177]\n",
      "[2] expected, [7] found with score [2.333611]\n",
      "[7] expected, [0] found with score [4.142737]\n",
      "[8] expected, [3] found with score [1.361763]\n",
      "[6] expected, [0] found with score [4.856912]\n",
      "[7] expected, [2] found with score [1.386850]\n",
      "[7] expected, [2] found with score [8.662205]\n",
      "[5] expected, [8] found with score [6.062621]\n",
      "[5] expected, [2] found with score [1.970252]\n",
      "[7] expected, [8] found with score [3.926601]\n",
      "[0] expected, [6] found with score [3.067183]\n",
      "[6] expected, [8] found with score [3.697764]\n",
      "[9] expected, [4] found with score [2.534086]\n",
      "[5] expected, [9] found with score [1.360127]\n",
      "[1] expected, [3] found with score [5.925064]\n",
      "[9] expected, [3] found with score [5.291320]\n",
      "[4] expected, [2] found with score [3.767483]\n",
      "[5] expected, [3] found with score [4.477924]\n",
      "[7] expected, [5] found with score [1.800712]\n",
      "[8] expected, [0] found with score [2.727240]\n",
      "[7] expected, [9] found with score [4.791647]\n",
      "[2] expected, [8] found with score [5.029358]\n",
      "[7] expected, [9] found with score [2.227777]\n",
      "[8] expected, [2] found with score [6.875107]\n",
      "[9] expected, [7] found with score [3.555064]\n",
      "[7] expected, [3] found with score [2.538262]\n",
      "[2] expected, [1] found with score [2.852820]\n",
      "[3] expected, [2] found with score [3.180176]\n",
      "[7] expected, [2] found with score [2.678962]\n",
      "[9] expected, [4] found with score [3.252569]\n",
      "[7] expected, [8] found with score [4.721529]\n",
      "[8] expected, [2] found with score [3.110223]\n",
      "[6] expected, [5] found with score [5.401142]\n",
      "[7] expected, [2] found with score [6.557414]\n",
      "[7] expected, [9] found with score [2.110775]\n",
      "[8] expected, [4] found with score [3.844981]\n",
      "[8] expected, [9] found with score [2.729414]\n",
      "[7] expected, [2] found with score [1.747613]\n",
      "[3] expected, [5] found with score [1.760349]\n",
      "[4] expected, [9] found with score [4.715375]\n",
      "[8] expected, [0] found with score [3.673788]\n",
      "[9] expected, [2] found with score [2.937572]\n",
      "[0] expected, [8] found with score [3.927993]\n",
      "[5] expected, [6] found with score [1.354680]\n",
      "[8] expected, [4] found with score [4.665934]\n",
      "[7] expected, [3] found with score [1.596300]\n",
      "[8] expected, [3] found with score [2.869877]\n",
      "[2] expected, [8] found with score [3.375871]\n",
      "[7] expected, [9] found with score [2.049751]\n",
      "[7] expected, [2] found with score [1.131185]\n",
      "[4] expected, [2] found with score [3.569492]\n",
      "[5] expected, [3] found with score [6.887043]\n",
      "[3] expected, [8] found with score [6.139338]\n",
      "[5] expected, [3] found with score [6.521667]\n",
      "[3] expected, [8] found with score [2.498166]\n",
      "[5] expected, [8] found with score [5.988781]\n",
      "[5] expected, [8] found with score [6.311339]\n",
      "[3] expected, [5] found with score [1.406624]\n",
      "[9] expected, [8] found with score [2.389740]\n",
      "[2] expected, [8] found with score [9.182141]\n",
      "[1] expected, [8] found with score [2.344522]\n",
      "[9] expected, [0] found with score [2.473922]\n",
      "[0] expected, [2] found with score [5.951452]\n",
      "[9] expected, [7] found with score [1.100845]\n",
      "[0] expected, [7] found with score [2.486352]\n",
      "[8] expected, [2] found with score [2.225400]\n",
      "[9] expected, [0] found with score [3.921988]\n",
      "[8] expected, [9] found with score [2.374602]\n",
      "[1] expected, [6] found with score [3.015747]\n",
      "[2] expected, [6] found with score [5.656937]\n",
      "[8] expected, [9] found with score [5.540235]\n",
      "[8] expected, [9] found with score [2.858616]\n",
      "[2] expected, [3] found with score [5.979765]\n",
      "[1] expected, [8] found with score [2.031260]\n",
      "[1] expected, [8] found with score [1.007869]\n",
      "[5] expected, [8] found with score [3.718521]\n",
      "[2] expected, [4] found with score [1.635027]\n",
      "[7] expected, [9] found with score [5.125750]\n",
      "[7] expected, [8] found with score [5.268638]\n",
      "[1] expected, [8] found with score [1.393216]\n",
      "[2] expected, [1] found with score [6.437488]\n",
      "[2] expected, [8] found with score [4.630424]\n",
      "[2] expected, [8] found with score [6.040459]\n",
      "[8] expected, [5] found with score [3.549093]\n",
      "[1] expected, [8] found with score [3.013205]\n",
      "[1] expected, [8] found with score [3.772156]\n",
      "[4] expected, [9] found with score [2.845412]\n",
      "[7] expected, [2] found with score [7.160069]\n",
      "[2] expected, [8] found with score [7.239409]\n",
      "[7] expected, [2] found with score [6.717454]\n",
      "[7] expected, [2] found with score [8.106194]\n",
      "[7] expected, [3] found with score [3.917755]\n",
      "[7] expected, [2] found with score [7.585540]\n",
      "[1] expected, [8] found with score [3.812698]\n",
      "[1] expected, [8] found with score [3.198879]\n",
      "[9] expected, [8] found with score [1.165366]\n",
      "[9] expected, [7] found with score [4.073849]\n",
      "[9] expected, [7] found with score [2.016259]\n",
      "[9] expected, [7] found with score [2.752035]\n",
      "[5] expected, [6] found with score [8.894523]\n",
      "[2] expected, [9] found with score [3.226777]\n",
      "[5] expected, [0] found with score [3.504829]\n",
      "[2] expected, [8] found with score [5.023175]\n",
      "[2] expected, [7] found with score [1.896811]\n",
      "[6] expected, [0] found with score [3.504725]\n",
      "[2] expected, [8] found with score [4.319359]\n",
      "[3] expected, [8] found with score [1.903526]\n",
      "[3] expected, [8] found with score [6.181266]\n",
      "97.8% correct (N=9929, 71 unknown)\n"
     ]
    }
   ],
   "source": [
    "run_tflite_test(model_no_quant_tflite)"
   ],
   "metadata": {
    "collapsed": false
   }
  },
  {
   "cell_type": "code",
   "execution_count": 15,
   "outputs": [
    {
     "name": "stdout",
     "output_type": "stream",
     "text": [
      "[4] expected, [0] found with score [4.234404]\n",
      "[4] expected, [8] found with score [1.693762]\n",
      "[6] expected, [0] found with score [8.468808]\n",
      "[2] expected, [3] found with score [3.175803]\n",
      "[9] expected, [7] found with score [1.270321]\n",
      "[2] expected, [7] found with score [4.657845]\n",
      "[5] expected, [3] found with score [3.387523]\n",
      "[3] expected, [7] found with score [5.716446]\n",
      "[5] expected, [3] found with score [6.351606]\n",
      "[6] expected, [0] found with score [4.657845]\n",
      "[8] expected, [2] found with score [2.117202]\n",
      "[2] expected, [8] found with score [2.540642]\n",
      "[8] expected, [3] found with score [1.905482]\n",
      "[7] expected, [9] found with score [5.716446]\n",
      "[2] expected, [8] found with score [4.234404]\n",
      "[1] expected, [8] found with score [3.387523]\n",
      "[2] expected, [1] found with score [3.599244]\n",
      "[5] expected, [3] found with score [5.716446]\n",
      "[7] expected, [3] found with score [4.869565]\n",
      "[0] expected, [5] found with score [0.846881]\n",
      "[5] expected, [8] found with score [5.716446]\n",
      "[7] expected, [5] found with score [1.693762]\n",
      "[2] expected, [8] found with score [7.621928]\n",
      "[4] expected, [9] found with score [4.022684]\n",
      "[4] expected, [8] found with score [1.058601]\n",
      "[8] expected, [3] found with score [2.117202]\n",
      "[8] expected, [7] found with score [1.693762]\n",
      "[2] expected, [0] found with score [3.175803]\n",
      "[8] expected, [9] found with score [2.328922]\n",
      "[5] expected, [3] found with score [8.680529]\n",
      "[6] expected, [5] found with score [3.387523]\n",
      "[8] expected, [4] found with score [2.752363]\n",
      "[4] expected, [6] found with score [6.351606]\n",
      "[3] expected, [8] found with score [4.446125]\n",
      "[8] expected, [3] found with score [2.328922]\n",
      "[6] expected, [8] found with score [5.081285]\n",
      "[7] expected, [9] found with score [4.869565]\n",
      "[7] expected, [3] found with score [2.540642]\n",
      "[7] expected, [1] found with score [3.810964]\n",
      "[8] expected, [3] found with score [1.058601]\n",
      "[2] expected, [6] found with score [4.657845]\n",
      "[5] expected, [6] found with score [3.810964]\n",
      "[5] expected, [3] found with score [5.081285]\n",
      "[8] expected, [4] found with score [2.117202]\n",
      "[8] expected, [2] found with score [2.964083]\n",
      "[8] expected, [7] found with score [5.928166]\n",
      "[4] expected, [6] found with score [2.752363]\n",
      "[7] expected, [9] found with score [4.869565]\n",
      "[0] expected, [6] found with score [10.162570]\n",
      "[7] expected, [3] found with score [3.387523]\n",
      "[6] expected, [5] found with score [2.540642]\n",
      "[2] expected, [0] found with score [1.270321]\n",
      "[3] expected, [7] found with score [2.752363]\n",
      "[8] expected, [0] found with score [4.234404]\n",
      "[7] expected, [3] found with score [5.504725]\n",
      "[7] expected, [3] found with score [5.081285]\n",
      "[2] expected, [8] found with score [4.657845]\n",
      "[8] expected, [3] found with score [2.752363]\n",
      "[8] expected, [3] found with score [2.540642]\n",
      "[1] expected, [4] found with score [2.964083]\n",
      "[9] expected, [4] found with score [2.328922]\n",
      "[7] expected, [2] found with score [2.117202]\n",
      "[5] expected, [8] found with score [4.234404]\n",
      "[8] expected, [2] found with score [3.387523]\n",
      "[5] expected, [3] found with score [5.293005]\n",
      "[4] expected, [8] found with score [2.328922]\n",
      "[6] expected, [0] found with score [6.351606]\n",
      "[9] expected, [8] found with score [2.117202]\n",
      "[4] expected, [9] found with score [5.081285]\n",
      "[1] expected, [3] found with score [4.234404]\n",
      "[2] expected, [8] found with score [2.752363]\n",
      "[8] expected, [0] found with score [2.964083]\n",
      "[3] expected, [5] found with score [1.693762]\n",
      "[9] expected, [0] found with score [7.198487]\n",
      "[0] expected, [2] found with score [8.680529]\n",
      "[9] expected, [0] found with score [1.693762]\n",
      "[9] expected, [1] found with score [1.905482]\n",
      "[9] expected, [1] found with score [1.270321]\n",
      "[8] expected, [7] found with score [3.175803]\n",
      "[4] expected, [9] found with score [3.387523]\n",
      "[2] expected, [3] found with score [7.833648]\n",
      "[6] expected, [1] found with score [6.775047]\n",
      "[9] expected, [7] found with score [3.175803]\n",
      "[5] expected, [8] found with score [3.387523]\n",
      "[9] expected, [4] found with score [2.540642]\n",
      "[2] expected, [3] found with score [5.928166]\n",
      "[5] expected, [3] found with score [4.869565]\n",
      "[7] expected, [9] found with score [6.351606]\n",
      "[8] expected, [0] found with score [6.351606]\n",
      "[3] expected, [2] found with score [2.964083]\n",
      "[3] expected, [7] found with score [3.599244]\n",
      "[5] expected, [3] found with score [4.446125]\n",
      "[6] expected, [5] found with score [2.117202]\n",
      "[8] expected, [9] found with score [2.328922]\n",
      "[6] expected, [0] found with score [2.328922]\n",
      "[1] expected, [3] found with score [3.810964]\n",
      "[5] expected, [3] found with score [4.022684]\n",
      "[4] expected, [9] found with score [1.482041]\n",
      "[8] expected, [9] found with score [5.293005]\n",
      "[2] expected, [8] found with score [4.022684]\n",
      "[9] expected, [7] found with score [1.905482]\n",
      "[6] expected, [0] found with score [7.198487]\n",
      "[9] expected, [1] found with score [1.693762]\n",
      "[6] expected, [4] found with score [4.657845]\n",
      "[9] expected, [7] found with score [4.022684]\n",
      "[3] expected, [8] found with score [3.599244]\n",
      "[8] expected, [5] found with score [1.905482]\n",
      "[9] expected, [3] found with score [2.540642]\n",
      "[2] expected, [7] found with score [2.540642]\n",
      "[7] expected, [0] found with score [4.234404]\n",
      "[8] expected, [3] found with score [1.482041]\n",
      "[7] expected, [2] found with score [1.058601]\n",
      "[7] expected, [2] found with score [8.468808]\n",
      "[5] expected, [8] found with score [6.139886]\n",
      "[5] expected, [2] found with score [2.117202]\n",
      "[7] expected, [8] found with score [4.022684]\n",
      "[0] expected, [6] found with score [3.387523]\n",
      "[6] expected, [8] found with score [3.599244]\n",
      "[9] expected, [4] found with score [2.328922]\n",
      "[5] expected, [9] found with score [1.270321]\n",
      "[5] expected, [3] found with score [1.482041]\n",
      "[1] expected, [3] found with score [5.928166]\n",
      "[9] expected, [3] found with score [5.504725]\n",
      "[4] expected, [2] found with score [3.387523]\n",
      "[5] expected, [3] found with score [4.657845]\n",
      "[8] expected, [0] found with score [2.964083]\n",
      "[2] expected, [8] found with score [4.869565]\n",
      "[7] expected, [9] found with score [2.328922]\n",
      "[8] expected, [2] found with score [6.775047]\n",
      "[9] expected, [7] found with score [3.810964]\n",
      "[7] expected, [3] found with score [2.964083]\n",
      "[2] expected, [1] found with score [3.175803]\n",
      "[3] expected, [2] found with score [2.964083]\n",
      "[2] expected, [3] found with score [4.022684]\n",
      "[5] expected, [3] found with score [3.175803]\n",
      "[2] expected, [1] found with score [2.540642]\n",
      "[7] expected, [2] found with score [2.752363]\n",
      "[9] expected, [4] found with score [3.387523]\n",
      "[7] expected, [3] found with score [2.328922]\n",
      "[7] expected, [8] found with score [4.869565]\n",
      "[8] expected, [2] found with score [2.964083]\n",
      "[6] expected, [5] found with score [4.869565]\n",
      "[7] expected, [2] found with score [6.775047]\n",
      "[7] expected, [9] found with score [2.117202]\n",
      "[8] expected, [4] found with score [3.810964]\n",
      "[8] expected, [9] found with score [2.964083]\n",
      "[7] expected, [2] found with score [1.693762]\n",
      "[3] expected, [5] found with score [1.482041]\n",
      "[4] expected, [9] found with score [5.081285]\n",
      "[8] expected, [0] found with score [4.022684]\n",
      "[9] expected, [2] found with score [2.752363]\n",
      "[0] expected, [8] found with score [4.022684]\n",
      "[5] expected, [6] found with score [1.270321]\n",
      "[8] expected, [4] found with score [4.657845]\n",
      "[7] expected, [3] found with score [1.905482]\n",
      "[8] expected, [3] found with score [2.964083]\n",
      "[2] expected, [3] found with score [2.540642]\n",
      "[4] expected, [9] found with score [3.175803]\n",
      "[2] expected, [3] found with score [3.387523]\n",
      "[7] expected, [9] found with score [2.328922]\n",
      "[7] expected, [2] found with score [1.058601]\n",
      "[4] expected, [2] found with score [3.599244]\n",
      "[5] expected, [3] found with score [6.986767]\n",
      "[3] expected, [8] found with score [6.139886]\n",
      "[5] expected, [3] found with score [6.563327]\n",
      "[3] expected, [8] found with score [2.540642]\n",
      "[5] expected, [8] found with score [5.928166]\n",
      "[5] expected, [8] found with score [6.351606]\n",
      "[5] expected, [3] found with score [5.716446]\n",
      "[9] expected, [8] found with score [2.540642]\n",
      "[2] expected, [8] found with score [9.103970]\n",
      "[1] expected, [8] found with score [2.117202]\n",
      "[9] expected, [0] found with score [2.540642]\n",
      "[9] expected, [7] found with score [1.058601]\n",
      "[0] expected, [7] found with score [2.752363]\n",
      "[8] expected, [2] found with score [2.117202]\n",
      "[9] expected, [0] found with score [4.022684]\n",
      "[8] expected, [9] found with score [2.540642]\n",
      "[1] expected, [6] found with score [3.387523]\n",
      "[6] expected, [4] found with score [4.869565]\n",
      "[2] expected, [6] found with score [5.504725]\n",
      "[8] expected, [9] found with score [5.928166]\n",
      "[8] expected, [9] found with score [3.175803]\n",
      "[2] expected, [3] found with score [6.139886]\n",
      "[1] expected, [8] found with score [2.117202]\n",
      "[1] expected, [8] found with score [1.058601]\n",
      "[5] expected, [8] found with score [3.810964]\n",
      "[2] expected, [4] found with score [1.905482]\n",
      "[7] expected, [9] found with score [5.293005]\n",
      "[7] expected, [8] found with score [5.504725]\n",
      "[1] expected, [8] found with score [1.482041]\n",
      "[2] expected, [1] found with score [6.563327]\n",
      "[2] expected, [1] found with score [7.833648]\n",
      "[2] expected, [8] found with score [4.657845]\n",
      "[2] expected, [8] found with score [5.928166]\n",
      "[8] expected, [5] found with score [3.810964]\n",
      "[1] expected, [8] found with score [2.964083]\n",
      "[1] expected, [8] found with score [3.810964]\n",
      "[4] expected, [9] found with score [3.175803]\n",
      "[7] expected, [2] found with score [6.775047]\n",
      "[2] expected, [8] found with score [7.198487]\n",
      "[7] expected, [2] found with score [6.351606]\n",
      "[7] expected, [2] found with score [7.621928]\n",
      "[7] expected, [3] found with score [4.446125]\n",
      "[1] expected, [8] found with score [2.964083]\n",
      "[8] expected, [5] found with score [6.986767]\n",
      "[9] expected, [8] found with score [1.270321]\n",
      "[9] expected, [7] found with score [4.234404]\n",
      "[9] expected, [7] found with score [1.905482]\n",
      "[9] expected, [7] found with score [2.964083]\n",
      "[5] expected, [6] found with score [9.315689]\n",
      "[2] expected, [9] found with score [3.175803]\n",
      "[5] expected, [0] found with score [3.599244]\n",
      "[4] expected, [9] found with score [0.846881]\n",
      "[2] expected, [8] found with score [5.081285]\n",
      "[2] expected, [7] found with score [2.117202]\n",
      "[6] expected, [0] found with score [3.810964]\n",
      "[2] expected, [8] found with score [4.446125]\n",
      "[3] expected, [8] found with score [2.117202]\n",
      "[3] expected, [8] found with score [6.351606]\n",
      "97.8% correct (N=9927, 73 unknown)\n"
     ]
    }
   ],
   "source": [
    "run_tflite_test(model_tflite)"
   ],
   "metadata": {
    "collapsed": false
   }
  },
  {
   "cell_type": "markdown",
   "source": [
    "# start transform"
   ],
   "metadata": {
    "collapsed": false
   }
  },
  {
   "cell_type": "code",
   "execution_count": 76,
   "outputs": [
    {
     "name": "stderr",
     "output_type": "stream",
     "text": [
      "'cat' is not recognized as an internal or external command,\n",
      "operable program or batch file.\n"
     ]
    }
   ],
   "source": [],
   "metadata": {
    "collapsed": false
   }
  },
  {
   "cell_type": "code",
   "execution_count": 16,
   "outputs": [
    {
     "name": "stdout",
     "output_type": "stream",
     "text": [
      "[4] expected, [0] found with score [4.234404]\n",
      "[4] expected, [8] found with score [1.693762]\n",
      "[6] expected, [0] found with score [8.468808]\n",
      "[2] expected, [3] found with score [3.175803]\n",
      "[9] expected, [7] found with score [1.270321]\n",
      "[2] expected, [7] found with score [4.657845]\n",
      "[5] expected, [3] found with score [3.387523]\n",
      "[3] expected, [7] found with score [5.716446]\n",
      "[5] expected, [3] found with score [6.351606]\n",
      "[6] expected, [0] found with score [4.657845]\n",
      "[8] expected, [2] found with score [2.117202]\n",
      "[2] expected, [8] found with score [2.540642]\n",
      "[8] expected, [3] found with score [1.905482]\n",
      "[7] expected, [9] found with score [5.716446]\n",
      "[2] expected, [8] found with score [4.234404]\n",
      "[1] expected, [8] found with score [3.387523]\n",
      "[2] expected, [1] found with score [3.599244]\n",
      "[5] expected, [3] found with score [5.716446]\n",
      "[7] expected, [3] found with score [4.869565]\n",
      "[0] expected, [5] found with score [0.846881]\n",
      "[5] expected, [8] found with score [5.716446]\n",
      "[7] expected, [5] found with score [1.693762]\n",
      "[2] expected, [8] found with score [7.621928]\n",
      "[4] expected, [9] found with score [4.022684]\n",
      "[4] expected, [8] found with score [1.058601]\n",
      "[8] expected, [3] found with score [2.117202]\n",
      "[8] expected, [7] found with score [1.693762]\n",
      "[2] expected, [0] found with score [3.175803]\n",
      "[8] expected, [9] found with score [2.328922]\n",
      "[5] expected, [3] found with score [8.680529]\n",
      "[6] expected, [5] found with score [3.387523]\n",
      "[8] expected, [4] found with score [2.752363]\n",
      "[4] expected, [6] found with score [6.351606]\n",
      "[3] expected, [8] found with score [4.446125]\n",
      "[8] expected, [3] found with score [2.328922]\n",
      "[6] expected, [8] found with score [5.081285]\n",
      "[7] expected, [9] found with score [4.869565]\n",
      "[7] expected, [3] found with score [2.540642]\n",
      "[7] expected, [1] found with score [3.810964]\n",
      "[8] expected, [3] found with score [1.058601]\n",
      "[2] expected, [6] found with score [4.657845]\n",
      "[5] expected, [6] found with score [3.810964]\n",
      "[5] expected, [3] found with score [5.081285]\n",
      "[8] expected, [4] found with score [2.117202]\n",
      "[8] expected, [2] found with score [2.964083]\n",
      "[8] expected, [7] found with score [5.928166]\n",
      "[4] expected, [6] found with score [2.752363]\n",
      "[7] expected, [9] found with score [4.869565]\n",
      "[0] expected, [6] found with score [10.162570]\n",
      "[7] expected, [3] found with score [3.387523]\n",
      "[6] expected, [5] found with score [2.540642]\n",
      "[2] expected, [0] found with score [1.270321]\n",
      "[3] expected, [7] found with score [2.752363]\n",
      "[8] expected, [0] found with score [4.234404]\n",
      "[7] expected, [3] found with score [5.504725]\n",
      "[7] expected, [3] found with score [5.081285]\n",
      "[2] expected, [8] found with score [4.657845]\n",
      "[8] expected, [3] found with score [2.752363]\n",
      "[8] expected, [3] found with score [2.540642]\n",
      "[1] expected, [4] found with score [2.964083]\n",
      "[9] expected, [4] found with score [2.328922]\n",
      "[7] expected, [2] found with score [2.117202]\n",
      "[5] expected, [8] found with score [4.234404]\n",
      "[8] expected, [2] found with score [3.387523]\n",
      "[5] expected, [3] found with score [5.293005]\n",
      "[4] expected, [8] found with score [2.328922]\n",
      "[6] expected, [0] found with score [6.351606]\n",
      "[9] expected, [8] found with score [2.117202]\n",
      "[4] expected, [9] found with score [5.081285]\n",
      "[1] expected, [3] found with score [4.234404]\n",
      "[2] expected, [8] found with score [2.752363]\n",
      "[8] expected, [0] found with score [2.964083]\n",
      "[3] expected, [5] found with score [1.693762]\n",
      "[9] expected, [0] found with score [7.198487]\n",
      "[0] expected, [2] found with score [8.680529]\n",
      "[9] expected, [0] found with score [1.693762]\n",
      "[9] expected, [1] found with score [1.905482]\n",
      "[9] expected, [1] found with score [1.270321]\n",
      "[8] expected, [7] found with score [3.175803]\n",
      "[4] expected, [9] found with score [3.387523]\n",
      "[2] expected, [3] found with score [7.833648]\n",
      "[6] expected, [1] found with score [6.775047]\n",
      "[9] expected, [7] found with score [3.175803]\n",
      "[5] expected, [8] found with score [3.387523]\n",
      "[9] expected, [4] found with score [2.540642]\n",
      "[2] expected, [3] found with score [5.928166]\n",
      "[5] expected, [3] found with score [4.869565]\n",
      "[7] expected, [9] found with score [6.351606]\n",
      "[8] expected, [0] found with score [6.351606]\n",
      "[3] expected, [2] found with score [2.964083]\n",
      "[3] expected, [7] found with score [3.599244]\n",
      "[5] expected, [3] found with score [4.446125]\n",
      "[6] expected, [5] found with score [2.117202]\n",
      "[8] expected, [9] found with score [2.328922]\n",
      "[6] expected, [0] found with score [2.328922]\n",
      "[1] expected, [3] found with score [3.810964]\n",
      "[5] expected, [3] found with score [4.022684]\n",
      "[4] expected, [9] found with score [1.482041]\n",
      "[8] expected, [9] found with score [5.293005]\n",
      "[2] expected, [8] found with score [4.022684]\n",
      "[9] expected, [7] found with score [1.905482]\n",
      "[6] expected, [0] found with score [7.198487]\n",
      "[9] expected, [1] found with score [1.693762]\n",
      "[6] expected, [4] found with score [4.657845]\n",
      "[9] expected, [7] found with score [4.022684]\n",
      "[3] expected, [8] found with score [3.599244]\n",
      "[8] expected, [5] found with score [1.905482]\n",
      "[9] expected, [3] found with score [2.540642]\n",
      "[2] expected, [7] found with score [2.540642]\n",
      "[7] expected, [0] found with score [4.234404]\n",
      "[8] expected, [3] found with score [1.482041]\n",
      "[7] expected, [2] found with score [1.058601]\n",
      "[7] expected, [2] found with score [8.468808]\n",
      "[5] expected, [8] found with score [6.139886]\n",
      "[5] expected, [2] found with score [2.117202]\n",
      "[7] expected, [8] found with score [4.022684]\n",
      "[0] expected, [6] found with score [3.387523]\n",
      "[6] expected, [8] found with score [3.599244]\n",
      "[9] expected, [4] found with score [2.328922]\n",
      "[5] expected, [9] found with score [1.270321]\n",
      "[5] expected, [3] found with score [1.482041]\n",
      "[1] expected, [3] found with score [5.928166]\n",
      "[9] expected, [3] found with score [5.504725]\n",
      "[4] expected, [2] found with score [3.387523]\n",
      "[5] expected, [3] found with score [4.657845]\n",
      "[8] expected, [0] found with score [2.964083]\n",
      "[2] expected, [8] found with score [4.869565]\n",
      "[7] expected, [9] found with score [2.328922]\n",
      "[8] expected, [2] found with score [6.775047]\n",
      "[9] expected, [7] found with score [3.810964]\n",
      "[7] expected, [3] found with score [2.964083]\n",
      "[2] expected, [1] found with score [3.175803]\n",
      "[3] expected, [2] found with score [2.964083]\n",
      "[2] expected, [3] found with score [4.022684]\n",
      "[5] expected, [3] found with score [3.175803]\n",
      "[2] expected, [1] found with score [2.540642]\n",
      "[7] expected, [2] found with score [2.752363]\n",
      "[9] expected, [4] found with score [3.387523]\n",
      "[7] expected, [3] found with score [2.328922]\n",
      "[7] expected, [8] found with score [4.869565]\n",
      "[8] expected, [2] found with score [2.964083]\n",
      "[6] expected, [5] found with score [4.869565]\n",
      "[7] expected, [2] found with score [6.775047]\n",
      "[7] expected, [9] found with score [2.117202]\n",
      "[8] expected, [4] found with score [3.810964]\n",
      "[8] expected, [9] found with score [2.964083]\n",
      "[7] expected, [2] found with score [1.693762]\n",
      "[3] expected, [5] found with score [1.482041]\n",
      "[4] expected, [9] found with score [5.081285]\n",
      "[8] expected, [0] found with score [4.022684]\n",
      "[9] expected, [2] found with score [2.752363]\n",
      "[0] expected, [8] found with score [4.022684]\n",
      "[5] expected, [6] found with score [1.270321]\n",
      "[8] expected, [4] found with score [4.657845]\n",
      "[7] expected, [3] found with score [1.905482]\n",
      "[8] expected, [3] found with score [2.964083]\n",
      "[2] expected, [3] found with score [2.540642]\n",
      "[4] expected, [9] found with score [3.175803]\n",
      "[2] expected, [3] found with score [3.387523]\n",
      "[7] expected, [9] found with score [2.328922]\n",
      "[7] expected, [2] found with score [1.058601]\n",
      "[4] expected, [2] found with score [3.599244]\n",
      "[5] expected, [3] found with score [6.986767]\n",
      "[3] expected, [8] found with score [6.139886]\n",
      "[5] expected, [3] found with score [6.563327]\n",
      "[3] expected, [8] found with score [2.540642]\n",
      "[5] expected, [8] found with score [5.928166]\n",
      "[5] expected, [8] found with score [6.351606]\n",
      "[5] expected, [3] found with score [5.716446]\n",
      "[9] expected, [8] found with score [2.540642]\n",
      "[2] expected, [8] found with score [9.103970]\n",
      "[1] expected, [8] found with score [2.117202]\n",
      "[9] expected, [0] found with score [2.540642]\n",
      "[9] expected, [7] found with score [1.058601]\n",
      "[0] expected, [7] found with score [2.752363]\n",
      "[8] expected, [2] found with score [2.117202]\n",
      "[9] expected, [0] found with score [4.022684]\n",
      "[8] expected, [9] found with score [2.540642]\n",
      "[1] expected, [6] found with score [3.387523]\n",
      "[6] expected, [4] found with score [4.869565]\n",
      "[2] expected, [6] found with score [5.504725]\n",
      "[8] expected, [9] found with score [5.928166]\n",
      "[8] expected, [9] found with score [3.175803]\n",
      "[2] expected, [3] found with score [6.139886]\n",
      "[1] expected, [8] found with score [2.117202]\n",
      "[1] expected, [8] found with score [1.058601]\n",
      "[5] expected, [8] found with score [3.810964]\n",
      "[2] expected, [4] found with score [1.905482]\n",
      "[7] expected, [9] found with score [5.293005]\n",
      "[7] expected, [8] found with score [5.504725]\n",
      "[1] expected, [8] found with score [1.482041]\n",
      "[2] expected, [1] found with score [6.563327]\n",
      "[2] expected, [1] found with score [7.833648]\n",
      "[2] expected, [8] found with score [4.657845]\n",
      "[2] expected, [8] found with score [5.928166]\n",
      "[8] expected, [5] found with score [3.810964]\n",
      "[1] expected, [8] found with score [2.964083]\n",
      "[1] expected, [8] found with score [3.810964]\n",
      "[4] expected, [9] found with score [3.175803]\n",
      "[7] expected, [2] found with score [6.775047]\n",
      "[2] expected, [8] found with score [7.198487]\n",
      "[7] expected, [2] found with score [6.351606]\n",
      "[7] expected, [2] found with score [7.621928]\n",
      "[7] expected, [3] found with score [4.446125]\n",
      "[1] expected, [8] found with score [2.964083]\n",
      "[8] expected, [5] found with score [6.986767]\n",
      "[9] expected, [8] found with score [1.270321]\n",
      "[9] expected, [7] found with score [4.234404]\n",
      "[9] expected, [7] found with score [1.905482]\n",
      "[9] expected, [7] found with score [2.964083]\n",
      "[5] expected, [6] found with score [9.315689]\n",
      "[2] expected, [9] found with score [3.175803]\n",
      "[5] expected, [0] found with score [3.599244]\n",
      "[4] expected, [9] found with score [0.846881]\n",
      "[2] expected, [8] found with score [5.081285]\n",
      "[2] expected, [7] found with score [2.117202]\n",
      "[6] expected, [0] found with score [3.810964]\n",
      "[2] expected, [8] found with score [4.446125]\n",
      "[3] expected, [8] found with score [2.117202]\n",
      "[3] expected, [8] found with score [6.351606]\n",
      "97.8% correct (N=9927, 73 unknown)\n"
     ]
    }
   ],
   "source": [
    "def predict_tflite(tflite_model, img):\n",
    "  img_array = tf.expand_dims(img, 0)\n",
    "\n",
    "  # Initialize the TFLite interpreter\n",
    "  interpreter = tf.lite.Interpreter(model_path=tflite_model)\n",
    "  interpreter.allocate_tensors()\n",
    "\n",
    "  input_details = interpreter.get_input_details()[0]\n",
    "  output_details = interpreter.get_output_details()[0]\n",
    "\n",
    "  # If required, quantize the input layer (from float to integer)\n",
    "  input_scale, input_zero_point = input_details[\"quantization\"]\n",
    "  if (input_scale, input_zero_point) != (0.0, 0):\n",
    "    img_array = np.multiply(img_array, 1.0 / input_scale) + input_zero_point\n",
    "    img_array = img_array.astype(input_details[\"dtype\"])\n",
    "\n",
    "  # Invoke the interpreter\n",
    "  interpreter.set_tensor(input_details[\"index\"], img_array)\n",
    "  interpreter.invoke()\n",
    "  pred = interpreter.get_tensor(output_details[\"index\"])[0]\n",
    "\n",
    "  # If required, dequantized the output layer (from integer to float)\n",
    "  output_scale, output_zero_point = output_details[\"quantization\"]\n",
    "  if (output_scale, output_zero_point) != (0.0, 0):\n",
    "    pred = pred.astype(np.float32)\n",
    "    pred = np.multiply((pred - output_zero_point), output_scale)\n",
    "\n",
    "  predicted_label_index = np.argmax(pred)\n",
    "  predicted_score = pred[predicted_label_index]\n",
    "  return (predicted_label_index, predicted_score)\n",
    "run_tflite_test(QUANT_LITE_MODEL_DIR)"
   ],
   "metadata": {
    "collapsed": false
   }
  },
  {
   "cell_type": "code",
   "execution_count": null,
   "outputs": [],
   "source": [],
   "metadata": {
    "collapsed": false
   }
  }
 ],
 "metadata": {
  "kernelspec": {
   "display_name": "Python 3",
   "language": "python",
   "name": "python3"
  },
  "language_info": {
   "codemirror_mode": {
    "name": "ipython",
    "version": 2
   },
   "file_extension": ".py",
   "mimetype": "text/x-python",
   "name": "python",
   "nbconvert_exporter": "python",
   "pygments_lexer": "ipython2",
   "version": "2.7.6"
  }
 },
 "nbformat": 4,
 "nbformat_minor": 0
}
